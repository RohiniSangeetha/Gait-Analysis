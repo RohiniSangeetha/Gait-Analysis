{
  "cells": [
    {
      "cell_type": "code",
      "execution_count": null,
      "metadata": {
        "id": "1Z76cqSn5EtH"
      },
      "outputs": [],
      "source": [
        "import numpy as np\n",
        "import pandas as pd\n",
        "from sklearn.model_selection import train_test_split\n",
        "from sklearn.metrics import accuracy_score, roc_auc_score"
      ]
    },
    {
      "cell_type": "code",
      "execution_count": null,
      "metadata": {
        "id": "w-QF1cjVz9Nq"
      },
      "outputs": [],
      "source": [
        "df=pd.read_csv('/content/drive/MyDrive/Colab Notebooks/comb.csv')"
      ]
    },
    {
      "cell_type": "code",
      "source": [
        "print(df.info())"
      ],
      "metadata": {
        "id": "_u_Ebv_Cg6Vy",
        "outputId": "e49ed540-2dfe-4063-f21f-7907a5dd9f37",
        "colab": {
          "base_uri": "https://localhost:8080/"
        }
      },
      "execution_count": null,
      "outputs": [
        {
          "output_type": "stream",
          "name": "stdout",
          "text": [
            "<class 'pandas.core.frame.DataFrame'>\n",
            "RangeIndex: 679845 entries, 0 to 679844\n",
            "Data columns (total 60 columns):\n",
            " #   Column  Non-Null Count   Dtype  \n",
            "---  ------  --------------   -----  \n",
            " 0   person  679845 non-null  int64  \n",
            " 1   c1      679845 non-null  float64\n",
            " 2   c2      679845 non-null  float64\n",
            " 3   c3      679845 non-null  float64\n",
            " 4   c4      679845 non-null  float64\n",
            " 5   c5      679845 non-null  float64\n",
            " 6   c6      679845 non-null  float64\n",
            " 7   c7      679845 non-null  float64\n",
            " 8   c8      679845 non-null  float64\n",
            " 9   c9      679845 non-null  float64\n",
            " 10  c10     679845 non-null  float64\n",
            " 11  c11     679845 non-null  float64\n",
            " 12  c12     679845 non-null  float64\n",
            " 13  c13     679845 non-null  float64\n",
            " 14  c14     679845 non-null  float64\n",
            " 15  c15     679845 non-null  float64\n",
            " 16  c16     679845 non-null  float64\n",
            " 17  c17     679845 non-null  float64\n",
            " 18  c18     679845 non-null  float64\n",
            " 19  c19     679845 non-null  float64\n",
            " 20  c20     679845 non-null  float64\n",
            " 21  c21     679845 non-null  float64\n",
            " 22  c22     679845 non-null  float64\n",
            " 23  c23     679845 non-null  float64\n",
            " 24  c24     679845 non-null  float64\n",
            " 25  c25     679845 non-null  float64\n",
            " 26  c26     679845 non-null  float64\n",
            " 27  c27     679845 non-null  float64\n",
            " 28  c28     679845 non-null  float64\n",
            " 29  c29     679845 non-null  float64\n",
            " 30  c30     679845 non-null  float64\n",
            " 31  c31     679845 non-null  float64\n",
            " 32  c32     679845 non-null  float64\n",
            " 33  c33     679845 non-null  float64\n",
            " 34  c34     679845 non-null  float64\n",
            " 35  c35     679845 non-null  float64\n",
            " 36  c36     679845 non-null  float64\n",
            " 37  c37     679845 non-null  float64\n",
            " 38  c38     679845 non-null  float64\n",
            " 39  c39     679845 non-null  float64\n",
            " 40  c40     679845 non-null  float64\n",
            " 41  c41     679845 non-null  float64\n",
            " 42  c42     679845 non-null  float64\n",
            " 43  c43     679845 non-null  float64\n",
            " 44  c44     679845 non-null  float64\n",
            " 45  c45     679845 non-null  float64\n",
            " 46  c46     679845 non-null  float64\n",
            " 47  c47     679845 non-null  float64\n",
            " 48  c48     679845 non-null  float64\n",
            " 49  c49     679845 non-null  float64\n",
            " 50  c50     679845 non-null  float64\n",
            " 51  c51     679845 non-null  float64\n",
            " 52  c52     679845 non-null  float64\n",
            " 53  c53     679845 non-null  float64\n",
            " 54  c54     679845 non-null  float64\n",
            " 55  c55     679845 non-null  float64\n",
            " 56  c56     679845 non-null  float64\n",
            " 57  c57     679845 non-null  float64\n",
            " 58  c58     679845 non-null  float64\n",
            " 59  O       679845 non-null  int64  \n",
            "dtypes: float64(58), int64(2)\n",
            "memory usage: 311.2 MB\n",
            "None\n"
          ]
        }
      ]
    },
    {
      "cell_type": "code",
      "execution_count": null,
      "metadata": {
        "colab": {
          "base_uri": "https://localhost:8080/"
        },
        "id": "52cZMD1PQ-Uq",
        "outputId": "e92684ae-602f-49fe-e0c8-d26ffcf87dba"
      },
      "outputs": [
        {
          "output_type": "stream",
          "name": "stdout",
          "text": [
            "   person       c1       c2       c3       c4      c5      c6      c7  \\\n",
            "0       1   7.0640   7.3853   5.3534   6.9240  3.7559  1.7674  4.4223   \n",
            "1       1   7.8537   7.6998   6.1821   6.9615  3.8015  1.2309  4.1826   \n",
            "2       1   9.8257   9.1855   8.1727   7.9598  5.3095  2.0016  5.3646   \n",
            "3       1  12.2397  11.2825  10.5597   9.5310  7.6492  3.5774  7.4899   \n",
            "4       1  14.2806  13.2718  12.5526  11.1866  9.7840  5.2566  9.5088   \n",
            "\n",
            "        c8       c9  ...         c50   c51          c52          c53  \\\n",
            "0   6.7464  10.7780  ...  115.000000  53.0  7865.000000  4712.000000   \n",
            "1   6.7128  10.5566  ...  117.611651  53.0  8055.034673  4661.843221   \n",
            "2   7.9092  12.0235  ...  119.670776  53.0  8224.983668  4607.356201   \n",
            "3   9.7218  14.5659  ...  121.524075  53.0  8379.215326  4552.647571   \n",
            "4  11.3648  16.6226  ...  123.518249  53.0  8522.097990  4501.825960   \n",
            "\n",
            "           c54         c55         c56         c57          c58  O  \n",
            "0 -1087.000000  661.000000 -688.000000  509.000000  1830.000000  0  \n",
            "1 -1105.551850  657.591356 -723.735803  533.373304  1830.000025  0  \n",
            "2 -1114.157508  662.330623 -762.931999  563.748359  1830.000019  0  \n",
            "3 -1094.587242  672.874212 -801.660294  595.436762  1830.000000  0  \n",
            "4 -1028.611317  686.878534 -835.992392  623.750109  1829.999987  0  \n",
            "\n",
            "[5 rows x 60 columns]\n"
          ]
        }
      ],
      "source": [
        "print(df.head())"
      ]
    },
    {
      "cell_type": "code",
      "execution_count": null,
      "metadata": {
        "colab": {
          "base_uri": "https://localhost:8080/"
        },
        "id": "yr6hkZkdKQ_L",
        "outputId": "1f0c05ad-b05c-408f-bbf3-8e20c987ba88"
      },
      "outputs": [
        {
          "name": "stdout",
          "output_type": "stream",
          "text": [
            "[0 1]\n"
          ]
        }
      ],
      "source": [
        "munique_values = df['O'].unique()\n",
        "\n",
        "print(unique_values)\n"
      ]
    },
    {
      "cell_type": "code",
      "execution_count": null,
      "metadata": {
        "id": "8oAMjyLyN7r7"
      },
      "outputs": [],
      "source": [
        "df2=pd.read_csv('/content/drive/MyDrive/11.csv')"
      ]
    },
    {
      "cell_type": "code",
      "execution_count": null,
      "metadata": {
        "id": "C6i610GYzgdj"
      },
      "outputs": [],
      "source": [
        "X_train = df.iloc[:, 1:-2]\n",
        "y_train = df.iloc[:, -1]"
      ]
    },
    {
      "cell_type": "code",
      "execution_count": null,
      "metadata": {
        "id": "4pPaAgH4O_9Z"
      },
      "outputs": [],
      "source": [
        "X_test=df2.iloc[:,1:-2]\n",
        "y_test=df2.iloc[:,-1]"
      ]
    },
    {
      "cell_type": "code",
      "execution_count": null,
      "metadata": {
        "colab": {
          "base_uri": "https://localhost:8080/"
        },
        "id": "St1sZ2jGBmKQ",
        "outputId": "d0415a1a-5b0f-4222-f201-a41399338173"
      },
      "outputs": [
        {
          "output_type": "stream",
          "name": "stdout",
          "text": [
            "[LightGBM] [Info] Number of positive: 282823, number of negative: 397022\n",
            "[LightGBM] [Warning] Auto-choosing col-wise multi-threading, the overhead of testing was 0.405127 seconds.\n",
            "You can set `force_col_wise=true` to remove the overhead.\n",
            "[LightGBM] [Info] Total Bins 14535\n",
            "[LightGBM] [Info] Number of data points in the train set: 679845, number of used features: 57\n",
            "[LightGBM] [Info] [binary:BoostFromScore]: pavg=0.416011 -> initscore=-0.339170\n",
            "[LightGBM] [Info] Start training from score -0.339170\n",
            "Accuracy: 0.59\n"
          ]
        }
      ],
      "source": [
        "import lightgbm as lgb\n",
        "train_data=lgb.Dataset(X_train, label=y_train)\n",
        "test_data=lgb.Dataset(X_test, label=y_test)\n",
        "params={'objective':'binary',\n",
        "        'metric': 'binary_logloss',\n",
        "        'boosting_type':'rf',\n",
        "        'num_leaves': 31,\n",
        "        'learning_rate': 0.05,\n",
        "        'feature_fraction': 0.9}\n",
        "num_round=100\n",
        "bst=lgb.train(params, train_data, num_round)\n",
        "y_pred=bst.predict(X_test, num_iteration=bst.best_iteration)\n",
        "y_pred_binary=np.round(y_pred)\n",
        "accuracy=accuracy_score(y_test, y_pred_binary)\n",
        "print(f\"Accuracy: {accuracy:.2f}\")"
      ]
    },
    {
      "cell_type": "code",
      "source": [
        "\n",
        "train_data=lgb.Dataset(X_train, label=y_train)\n",
        "test_data=lgb.Dataset(X_test, label=y_test)\n",
        "params={'objective':'binary','metric': 'binary_logloss','boosting_type':'gbdt','num_leaves': 31,'learning_rate': 0.05,'feature_fraction': 0.9}\n",
        "num_round=100\n",
        "bst=lgb.train(params, train_data, num_round)\n",
        "y_pred=bst.predict(X_test, num_iteration=bst.best_iteration)\n",
        "y_pred_binary=np.round(y_pred)\n",
        "accuracy=accuracy_score(y_test, y_pred_binary)\n",
        "print(f\"Accuracy: {accuracy:.2f}\")"
      ],
      "metadata": {
        "colab": {
          "base_uri": "https://localhost:8080/"
        },
        "id": "VZrvnPlzZn7H",
        "outputId": "50b42e24-1eca-43af-ffcd-b417dd8dcb6b"
      },
      "execution_count": null,
      "outputs": [
        {
          "output_type": "stream",
          "name": "stdout",
          "text": [
            "[LightGBM] [Info] Number of positive: 282823, number of negative: 397022\n",
            "[LightGBM] [Warning] Auto-choosing col-wise multi-threading, the overhead of testing was 0.433311 seconds.\n",
            "You can set `force_col_wise=true` to remove the overhead.\n",
            "[LightGBM] [Info] Total Bins 14535\n",
            "[LightGBM] [Info] Number of data points in the train set: 679845, number of used features: 57\n",
            "[LightGBM] [Info] [binary:BoostFromScore]: pavg=0.416011 -> initscore=-0.339170\n",
            "[LightGBM] [Info] Start training from score -0.339170\n",
            "Accuracy: 0.79\n"
          ]
        }
      ]
    },
    {
      "cell_type": "code",
      "source": [
        "import numpy as np\n",
        "import pandas as pd\n",
        "from sklearn.model_selection import train_test_split\n",
        "from sklearn.metrics import accuracy_score\n",
        "import tensorflow as tf\n",
        "from tensorflow.keras.models import Sequential\n",
        "from tensorflow.keras.layers import GRU,Dense"
      ],
      "metadata": {
        "id": "YcqLil6XGYVr"
      },
      "execution_count": null,
      "outputs": []
    },
    {
      "cell_type": "code",
      "source": [
        "model = Sequential([\n",
        "    GRU(64, dropout=0.2, recurrent_dropout=0.2, return_sequences=True),\n",
        "    GRU(32, dropout=0.2, recurrent_dropout=0.2),\n",
        "    Dense(1, activation='sigmoid')\n",
        "    ])\n",
        "model.compile(optimizer='adam', loss='binary_crossentropy', metrics=['accuracy'])\n",
        "X_train_gru = np.expand_dims(X_train, axis=2)\n",
        "X_test_gru = np.expand_dims(X_test, axis=2)\n",
        "model.fit(X_train_gru, y_train, epochs=1, batch_size=32, validation_split=0.2)\n",
        "y_pred_prob = model.predict(X_test_gru)\n",
        "y_pred = np.round(y_pred_prob)\n",
        "accuracy = accuracy_score(y_test, y_pred)\n",
        "print(f\"Accuracy: {accuracy:.2f}\")"
      ],
      "metadata": {
        "colab": {
          "base_uri": "https://localhost:8080/"
        },
        "id": "WmoXZgVWGC-e",
        "outputId": "7e9f649a-c933-4b97-9af6-c417f5079f27"
      },
      "execution_count": null,
      "outputs": [
        {
          "output_type": "stream",
          "name": "stdout",
          "text": [
            "Accuracy : 0.72\n"
          ]
        }
      ]
    },
    {
      "cell_type": "code",
      "source": [
        "CNN"
      ],
      "metadata": {
        "id": "tBP9rm4j_mMV"
      },
      "execution_count": null,
      "outputs": []
    },
    {
      "cell_type": "code",
      "execution_count": null,
      "metadata": {
        "id": "VOlFMqiTjXdk"
      },
      "outputs": [],
      "source": [
        "import pandas as pd\n",
        "import numpy as np\n",
        "from sklearn.metrics import accuracy_score\n",
        "\n",
        "\n",
        "num_rows = 0\n",
        "\n",
        "train_df = np.empty((0,59), dtype=np.float64)\n",
        "\n",
        "for i in range(1, 11):\n",
        "  l = [2,5,9]\n",
        "  if i not in l:\n",
        "    directory = 'merged files/' + str(\"{:03d}\".format(i) + '.csv')\n",
        "    df_chunk = pd.read_csv(directory).iloc[:, 1:]\n",
        "    train_df = np.vstack((train_df, df_chunk.to_numpy(dtype=np.float64)))\n",
        "    num_rows += len(df_chunk)\n",
        "    print(df_chunk.shape, train_df.shape)\n",
        "print(train_df.shape)\n",
        "\n",
        "\n",
        "\n",
        "X = train_df[:, :-1]\n",
        "Y = train_df[:, -1]\n",
        "X.shape, Y.shape\n",
        "\n",
        "\n",
        "\n",
        "num_columns = 59\n",
        "\n",
        "\n",
        "test_result_array = np.empty((0, num_columns), dtype=np.float64)\n",
        "\n",
        "for i in range(11, 13):\n",
        "    directory = 'merged files/' + str(\"{:03d}\".format(i)) + '.csv'\n",
        "    df_chunk = pd.read_csv(directory).iloc[:, 1:]\n",
        "    test_result_array = np.vstack((test_result_array, df_chunk.to_numpy(dtype=np.float64)))\n",
        "\n",
        "\n",
        "print(test_result_array.shape)\n",
        "\n",
        "\n",
        "X_ = test_result_array[:, :-1]\n",
        "Y_ = test_result_array[:, -1]\n",
        "X_.shape, Y_.shape\n",
        "\n",
        "import xgboost as xgb\n",
        "\n",
        "dtrain_reg = xgb.DMatrix(X, Y)\n",
        "dtest_reg = xgb.DMatrix(X_, Y_)\n",
        "\n",
        "\n",
        "\n",
        "params = {\n",
        "    'objective': 'binary:logistic',  # Binary classification\n",
        "    'eval_metric': 'logloss',        # Evaluation metric\n",
        "    'max_depth': 25,                # Maximum depth of a tree\n",
        "    'eta': 0.15,                      # Learning rate\n",
        "    'subsample': 0.8,                # Subsample ratio of the training instances\n",
        "    'colsample_bytree': 0.8,         # Subsample ratio of columns when constructing each tree\n",
        "    'seed': 42,                      # Random seed\n",
        "\n",
        "}\n",
        "\n",
        "xgb_classifier = xgb.train(params, dtrain_reg)\n",
        "\n",
        "\n",
        "# Make predictions on the test set\n",
        "y_pred = xgb_classifier.predict(dtest_reg)\n",
        "\n",
        "y_pred_bool = [0 if x < 0.78 else 1 for x in y_pred]\n",
        "\n",
        "# Evaluate the model's performance\n",
        "accuracy = accuracy_score(Y_, y_pred_bool)\n",
        "print(f\"Accuracy: {accuracy:.4f}\")\n",
        "\n",
        "\n",
        "from sklearn.metrics import confusion_matrix\n",
        "cm = confusion_matrix(Y_, y_pred_bool)\n",
        "cm"
      ]
    },
    {
      "cell_type": "code",
      "source": [
        "#XG Boost"
      ],
      "metadata": {
        "id": "WCZN6GCbEStj"
      },
      "execution_count": null,
      "outputs": []
    },
    {
      "cell_type": "code",
      "source": [
        "import pandas as pd\n",
        "import numpy as np\n",
        "from sklearn.metrics import accuracy_score\n",
        "\n",
        "\n",
        "num_rows = 0\n",
        "\n",
        "train_df = np.empty((0,59), dtype=np.float64)\n",
        "\n",
        "for i in range(1, 11):\n",
        "  l = [2,5,9]\n",
        "  if i not in l:\n",
        "    directory = 'merged files/' + str(\"{:03d}\".format(i) + '.csv')\n",
        "    df_chunk = pd.read_csv(directory).iloc[:, 1:]\n",
        "    train_df = np.vstack((train_df, df_chunk.to_numpy(dtype=np.float64)))\n",
        "    num_rows += len(df_chunk)\n",
        "    print(df_chunk.shape, train_df.shape)\n",
        "print(train_df.shape)\n",
        "\n",
        "\n",
        "\n",
        "X = train_df[:, :-1]\n",
        "Y = train_df[:, -1]\n",
        "X.shape, Y.shape\n",
        "\n",
        "\n",
        "\n",
        "num_columns = 59\n",
        "\n",
        "\n",
        "test_result_array = np.empty((0, num_columns), dtype=np.float64)\n",
        "\n",
        "for i in range(11, 13):\n",
        "    directory = 'merged files/' + str(\"{:03d}\".format(i)) + '.csv'\n",
        "    df_chunk = pd.read_csv(directory).iloc[:, 1:]\n",
        "    test_result_array = np.vstack((test_result_array, df_chunk.to_numpy(dtype=np.float64)))\n",
        "\n",
        "\n",
        "print(test_result_array.shape)\n",
        "\n",
        "\n",
        "X_ = test_result_array[:, :-1]\n",
        "Y_ = test_result_array[:, -1]\n",
        "X_.shape, Y_.shape\n",
        "\n",
        "import xgboost as xgb\n",
        "\n",
        "dtrain_reg = xgb.DMatrix(X, Y)\n",
        "dtest_reg = xgb.DMatrix(X_, Y_)\n",
        "\n",
        "\n",
        "\n",
        "params = {\n",
        "    'objective': 'binary:logistic',  # Binary classification\n",
        "    'eval_metric': 'logloss',        # Evaluation metric\n",
        "    'max_depth': 25,                # Maximum depth of a tree\n",
        "    'eta': 0.15,                      # Learning rate\n",
        "    'subsample': 0.8,                # Subsample ratio of the training instances\n",
        "    'colsample_bytree': 0.8,         # Subsample ratio of columns when constructing each tree\n",
        "    'seed': 42,                      # Random seed\n",
        "\n",
        "}\n",
        "\n",
        "xgb_classifier = xgb.train(params, dtrain_reg)\n",
        "\n",
        "\n",
        "# Make predictions on the test set\n",
        "y_pred = xgb_classifier.predict(dtest_reg)\n",
        "\n",
        "y_pred_bool = [0 if x < 0.78 else 1 for x in y_pred]\n",
        "\n",
        "# Evaluate the model's performance\n",
        "accuracy = accuracy_score(Y_, y_pred_bool)\n",
        "print(f\"Accuracy: {accuracy:.4f}\")\n",
        "\n",
        "\n",
        "from sklearn.metrics import confusion_matrix\n",
        "cm = confusion_matrix(Y_, y_pred_bool)\n",
        "cm\n",
        "\n",
        "\n",
        "\n",
        "\n",
        "\n",
        "\n",
        "\n"
      ],
      "metadata": {
        "id": "uh--3aUHEFoT"
      },
      "execution_count": null,
      "outputs": []
    },
    {
      "cell_type": "code",
      "source": [
        "#Naive bayes"
      ],
      "metadata": {
        "id": "oFwbcVYnHvkS"
      },
      "execution_count": null,
      "outputs": []
    },
    {
      "cell_type": "code",
      "source": [
        "X_train = train_df[:,:-1]\n",
        "Y_train = train_df[:,-1]\n",
        "x_test = test_result_array[:,:-1]\n",
        "y_test = test_result_array[:,-1]\n",
        "\n",
        "from sklearn.naive_bayes import GaussianNB\n",
        "from sklearn.metrics import accuracy_score\n",
        "\n",
        "\n",
        "custom_var_smoothing = 1e-9\n",
        "\n",
        "\n",
        "clf = GaussianNB(var_smoothing=custom_var_smoothing)\n",
        "\n",
        "\n",
        "clf.fit(X, Y)\n",
        "\n",
        "\n",
        "y_pred = clf.predict(x_test)\n",
        "\n",
        "\n",
        "accuracy = accuracy_score(y_test, y_pred)\n",
        "print(\"Accuracy:\", accuracy)"
      ],
      "metadata": {
        "id": "RmJLQDjWHZPU"
      },
      "execution_count": null,
      "outputs": []
    },
    {
      "cell_type": "code",
      "source": [
        "# random forest"
      ],
      "metadata": {
        "id": "L7T44vr_H3Ub"
      },
      "execution_count": null,
      "outputs": []
    },
    {
      "cell_type": "code",
      "source": [
        "X_train = train_df[:,:-1]\n",
        "Y_train = train_df[:,-1]\n",
        "x_test = test_result_array[:,:-1]\n",
        "y_test = test_result_array[:,-1]\n",
        "\n",
        "custom_params = {\n",
        "    'n_estimators': 100,          # Number of trees in the forest\n",
        "    'criterion': 'gini',         # Splitting criterion: 'gini' or 'entropy'\n",
        "    'max_depth': None,           # Maximum depth of each tree\n",
        "    'min_samples_split': 2,      # Minimum samples required to split a node\n",
        "    'min_samples_leaf': 1,       # Minimum samples required in a leaf node\n",
        "    'max_features': 'auto',      # Number of features to consider for splitting\n",
        "    'bootstrap': True,           # Whether to use bootstrapping\n",
        "    'random_state': 42          # Seed for random number generator\n",
        "}\n",
        "\n",
        "\n",
        "model = RandomForestClassifier(**custom_params)\n",
        "model.fit(X_train, Y_train)\n",
        "\n",
        "\n",
        "accuracy = model.score(x_test, y_test)\n",
        "print(\"Accuracy:\", accuracy)"
      ],
      "metadata": {
        "id": "k-mw-7gvH44q"
      },
      "execution_count": null,
      "outputs": []
    },
    {
      "cell_type": "code",
      "source": [
        "#"
      ],
      "metadata": {
        "id": "_ggKu2HzHx2-"
      },
      "execution_count": null,
      "outputs": []
    }
  ],
  "metadata": {
    "colab": {
      "provenance": []
    },
    "kernelspec": {
      "display_name": "Python 3",
      "name": "python3"
    },
    "language_info": {
      "name": "python"
    }
  },
  "nbformat": 4,
  "nbformat_minor": 0
}